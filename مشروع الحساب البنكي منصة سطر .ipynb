{
 "cells": [
  {
   "cell_type": "markdown",
   "id": "b9ff8a99",
   "metadata": {},
   "source": [
    "##  Requirements\n",
    "### قم بكتابة برنامج يمثل حساب المستخدم في البنك، بحيث يقوم بالتالي  :\n",
    "- عندما يتم إنشاء مستخدم يقوم بتهيئة رصيده البنكي وإعطائه القيمة صفر\n",
    "- يستطيع المستخدم إيداع نقوده عن طريق زيادة رصيده البنكي.\n",
    "- يستطيع المستخدم السحب عن طريق خصم رصيده البنكي.\n",
    "- يستطيع المستخدم الاستعلام عن رصيده عن طريق الوصول لقيمة الرصيد الحالي.\n",
    "- يتم إظهار جملة طباعة عند السحب أو الإيداع مع التاريخ والوقت عند حدوث تلك العملية.\n"
   ]
  },
  {
   "attachments": {
    "image.png": {
     "image/png": "[encoded data removed]"
    }
   },
   "cell_type": "markdown",
   "id": "85595330",
   "metadata": {},
   "source": [
    "![image.png](attachment:image.png)"
   ]
  },
  {
   "cell_type": "code",
   "execution_count": 51,
   "id": "a7ffb629",
   "metadata": {},
   "outputs": [],
   "source": [
    "import datetime\n",
    "class bank() :\n",
    "    def __init__(self):\n",
    "        self.account = 0\n",
    "    \n",
    "    def Deposit(self,amount):\n",
    "        if amount > 0:\n",
    "            self.account += amount \n",
    "            self.print_transaction(\"Deposit\", amount)\n",
    "        else :\n",
    "            print(\"Invalid amount for deposit.\")\n",
    "        \n",
    "    def Clouds(self,amount) :\n",
    "        if amount > 0 and amount <= self.account:\n",
    "            self.account -= amount \n",
    "            self.print_transaction(\"Withdraw\", amount)\n",
    "        else :\n",
    "            print(\"Invalid amount for withdrawal or insufficient balance.\")\n",
    "        \n",
    "    def get(self):\n",
    "        return self.account\n",
    "    def print_transaction(self, transaction_type, amount):\n",
    "        date = datetime.datetime.now() \n",
    "        day = date.strftime(\"%A\")\n",
    "        month=date.strftime('%B')\n",
    "        time = date.strftime('%X')\n",
    "        time_A_B= date.strftime('%p')\n",
    "        print(f'{amount} was deposited to your bank balance on {day}, {month} {date.day}, {date.year}, at {time}{time_A_B}.')\n",
    "        "
   ]
  },
  {
   "cell_type": "code",
   "execution_count": 52,
   "id": "a693b225",
   "metadata": {},
   "outputs": [
    {
     "data": {
      "text/plain": [
       "0"
      ]
     },
     "execution_count": 52,
     "metadata": {},
     "output_type": "execute_result"
    }
   ],
   "source": [
    "ueaser = bank()\n",
    "ueaser.get()"
   ]
  },
  {
   "cell_type": "code",
   "execution_count": 53,
   "id": "7e251fcd",
   "metadata": {},
   "outputs": [
    {
     "name": "stdout",
     "output_type": "stream",
     "text": [
      "2000 was deposited to your bank balance on Thursday, September 14, 2023, at 21:11:28PM.\n"
     ]
    }
   ],
   "source": [
    "ueaser.Deposit(2000)"
   ]
  },
  {
   "cell_type": "code",
   "execution_count": 54,
   "id": "588c3ec4",
   "metadata": {},
   "outputs": [
    {
     "name": "stdout",
     "output_type": "stream",
     "text": [
      "150 was deposited to your bank balance on Thursday, September 14, 2023, at 21:11:29PM.\n"
     ]
    }
   ],
   "source": [
    "ueaser.Clouds(150)"
   ]
  },
  {
   "cell_type": "code",
   "execution_count": null,
   "id": "2506b3bf",
   "metadata": {},
   "outputs": [],
   "source": []
  }
 ],
 "metadata": {
  "kernelspec": {
   "display_name": "Python 3 (ipykernel)",
   "language": "python",
   "name": "python3"
  },
  "language_info": {
   "codemirror_mode": {
    "name": "ipython",
    "version": 3
   },
   "file_extension": ".py",
   "mimetype": "text/x-python",
   "name": "python",
   "nbconvert_exporter": "python",
   "pygments_lexer": "ipython3",
   "version": "3.9.12"
  }
 },
 "nbformat": 4,
 "nbformat_minor": 5
}
